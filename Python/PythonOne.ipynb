{
  "nbformat": 4,
  "nbformat_minor": 0,
  "metadata": {
    "colab": {
      "provenance": []
    },
    "kernelspec": {
      "name": "python3",
      "display_name": "Python 3"
    },
    "language_info": {
      "name": "python"
    }
  },
  "cells": [
    {
      "cell_type": "code",
      "execution_count": 1,
      "metadata": {
        "colab": {
          "base_uri": "https://localhost:8080/"
        },
        "id": "OCBKaTZuoOF0",
        "outputId": "e3894081-fe0f-4761-dc62-a115a8ecfe84"
      },
      "outputs": [
        {
          "output_type": "execute_result",
          "data": {
            "text/plain": [
              "2"
            ]
          },
          "metadata": {},
          "execution_count": 1
        }
      ],
      "source": [
        "1+1"
      ]
    },
    {
      "cell_type": "code",
      "source": [
        "# Variables\n",
        "a = 10\n",
        "a"
      ],
      "metadata": {
        "colab": {
          "base_uri": "https://localhost:8080/"
        },
        "id": "Pa_FCGjyop8x",
        "outputId": "1a36808f-a95d-4ab4-d79f-b514fd281726"
      },
      "execution_count": 2,
      "outputs": [
        {
          "output_type": "execute_result",
          "data": {
            "text/plain": [
              "10"
            ]
          },
          "metadata": {},
          "execution_count": 2
        }
      ]
    },
    {
      "cell_type": "code",
      "source": [
        "type(a)"
      ],
      "metadata": {
        "colab": {
          "base_uri": "https://localhost:8080/"
        },
        "id": "mhFWqL3cpuMm",
        "outputId": "caefeec8-6772-4456-8e2f-8db62bb58461"
      },
      "execution_count": 3,
      "outputs": [
        {
          "output_type": "execute_result",
          "data": {
            "text/plain": [
              "int"
            ]
          },
          "metadata": {},
          "execution_count": 3
        }
      ]
    },
    {
      "cell_type": "code",
      "source": [
        "# Complex number\n",
        "# 4 is the real number and 7j is the imaginary part (where j is the notation for imaginary part)\n",
        "cNum = 4 + 7j\n",
        "type(cNum)"
      ],
      "metadata": {
        "colab": {
          "base_uri": "https://localhost:8080/"
        },
        "id": "VKzlMGwtp8ks",
        "outputId": "75ff5dcb-67aa-4683-e38a-a0d9ed3d0dd9"
      },
      "execution_count": 4,
      "outputs": [
        {
          "output_type": "execute_result",
          "data": {
            "text/plain": [
              "complex"
            ]
          },
          "metadata": {},
          "execution_count": 4
        }
      ]
    },
    {
      "cell_type": "code",
      "source": [
        "cNum.real"
      ],
      "metadata": {
        "colab": {
          "base_uri": "https://localhost:8080/"
        },
        "id": "phOOuaiAq9is",
        "outputId": "27ffbda4-4396-46c4-d363-55a88038a29e"
      },
      "execution_count": 5,
      "outputs": [
        {
          "output_type": "execute_result",
          "data": {
            "text/plain": [
              "4.0"
            ]
          },
          "metadata": {},
          "execution_count": 5
        }
      ]
    },
    {
      "cell_type": "code",
      "source": [
        "cNum.imag"
      ],
      "metadata": {
        "colab": {
          "base_uri": "https://localhost:8080/"
        },
        "id": "NHydJK4srkHI",
        "outputId": "519bc7c8-1ab3-43e5-dca0-68be3d426eba"
      },
      "execution_count": 6,
      "outputs": [
        {
          "output_type": "execute_result",
          "data": {
            "text/plain": [
              "7.0"
            ]
          },
          "metadata": {},
          "execution_count": 6
        }
      ]
    },
    {
      "cell_type": "code",
      "source": [
        "c = True"
      ],
      "metadata": {
        "id": "ZbX3EHgmr2b8"
      },
      "execution_count": 7,
      "outputs": []
    },
    {
      "cell_type": "code",
      "source": [
        "True + True"
      ],
      "metadata": {
        "colab": {
          "base_uri": "https://localhost:8080/"
        },
        "id": "vc5i35Bfr5b0",
        "outputId": "621e2b06-b5a7-4d33-c72c-2107085d4e3d"
      },
      "execution_count": 8,
      "outputs": [
        {
          "output_type": "execute_result",
          "data": {
            "text/plain": [
              "2"
            ]
          },
          "metadata": {},
          "execution_count": 8
        }
      ]
    },
    {
      "cell_type": "code",
      "source": [
        "# Single line comment\n",
        "\n",
        "\"\"\"Multi line comment\n",
        "Multi line comment\n",
        "Multi line comment\n",
        "Multi line comment\n",
        "Multi line comment\"\"\"\n"
      ],
      "metadata": {
        "colab": {
          "base_uri": "https://localhost:8080/",
          "height": 35
        },
        "id": "uzkzbGuQsEQH",
        "outputId": "99a836e4-3414-4b13-b6b0-9b6b2316b3b8"
      },
      "execution_count": 12,
      "outputs": [
        {
          "output_type": "execute_result",
          "data": {
            "text/plain": [
              "'Multi line comment\\nMulti line comment\\nMulti line comment\\nMulti line comment\\nMulti line comment'"
            ],
            "application/vnd.google.colaboratory.intrinsic+json": {
              "type": "string"
            }
          },
          "metadata": {},
          "execution_count": 12
        }
      ]
    },
    {
      "cell_type": "code",
      "source": [
        "strVar = \"My name is Sidd\"\n",
        "type(strVar)"
      ],
      "metadata": {
        "colab": {
          "base_uri": "https://localhost:8080/"
        },
        "id": "_4_VKBk1sqqJ",
        "outputId": "dae460f2-5ed0-413e-80b4-4718972af34c"
      },
      "execution_count": 15,
      "outputs": [
        {
          "output_type": "execute_result",
          "data": {
            "text/plain": [
              "str"
            ]
          },
          "metadata": {},
          "execution_count": 15
        }
      ]
    },
    {
      "cell_type": "code",
      "source": [
        "print(strVar)"
      ],
      "metadata": {
        "colab": {
          "base_uri": "https://localhost:8080/"
        },
        "id": "IhvQR8rktHL_",
        "outputId": "fa570b0a-786d-46b1-86fe-d3a4ccf94bce"
      },
      "execution_count": 16,
      "outputs": [
        {
          "output_type": "stream",
          "name": "stdout",
          "text": [
            "My name is Sidd\n"
          ]
        }
      ]
    },
    {
      "cell_type": "code",
      "source": [
        "s = '''Day's Name's \"Double Quote\" are here'''\n",
        "print(s)"
      ],
      "metadata": {
        "colab": {
          "base_uri": "https://localhost:8080/"
        },
        "id": "Of989vt5tiMJ",
        "outputId": "cae5a1f3-3d19-46c6-ca07-3bb974afcfea"
      },
      "execution_count": 18,
      "outputs": [
        {
          "output_type": "stream",
          "name": "stdout",
          "text": [
            "Day's Name's \"Double Quote\" are here\n"
          ]
        }
      ]
    },
    {
      "cell_type": "code",
      "source": [
        "# to print physicalmenory location of the string\n",
        "id(s)"
      ],
      "metadata": {
        "colab": {
          "base_uri": "https://localhost:8080/"
        },
        "id": "zz02mglGuAsF",
        "outputId": "54e35362-f38c-4ae4-eebd-ffdf83c68c9a"
      },
      "execution_count": 19,
      "outputs": [
        {
          "output_type": "execute_result",
          "data": {
            "text/plain": [
              "133311745077296"
            ]
          },
          "metadata": {},
          "execution_count": 19
        }
      ]
    },
    {
      "cell_type": "code",
      "source": [
        "myStr = \"Siddhartha\"\n",
        "\n",
        "# in python we can access data in both forward and backward direction as well.\n",
        "\n",
        "# Forward direction\n",
        "print(\"Forward Direction =====>\")\n",
        "print(myStr[0])\n",
        "print(myStr[2])\n",
        "print(myStr[3])\n",
        "print(myStr[4])\n",
        "print(myStr[5])\n",
        "print(myStr[6])\n",
        "print(myStr[7])\n",
        "print(myStr[8])\n",
        "print(myStr[9])\n",
        "\n",
        "# Backward Direction\n",
        "print(\"Backward Direction =====>\")\n",
        "print(myStr[-1])\n",
        "print(myStr[-2])\n",
        "print(myStr[-3])\n",
        "print(myStr[-4])\n",
        "print(myStr[-5])\n",
        "print(myStr[-6])\n",
        "print(myStr[-7])\n",
        "print(myStr[-8])\n",
        "print(myStr[-9])\n",
        "print(myStr[-10])\n",
        "\n",
        "# String Slicing Operations\n",
        "\n",
        "# Provided starting point and end point (for string always excludeds upper bound)\n",
        "print(myStr[0:5])\n",
        "print(myStr[3:9])\n",
        "\n",
        "# Start,End and Step\n",
        "print(myStr[0:5:2])\n",
        "print(myStr[3:9:2])\n",
        "print(myStr[3:9:3])\n",
        "print(myStr[-2:-9:-2])\n",
        "\n",
        "# Moving towards negative direction will give data\n",
        "\n",
        "print(myStr[5:0:-1])\n",
        "print(myStr[5:0:-2])\n",
        "\n",
        "# Reverse a String\n",
        "reversedString = myStr[::-1]\n",
        "print(reversedString)\n",
        "\n",
        "print(myStr.count('t'))\n",
        "print(myStr.count('d'))\n",
        "\n"
      ],
      "metadata": {
        "colab": {
          "base_uri": "https://localhost:8080/"
        },
        "id": "8cKO-rW9uiks",
        "outputId": "1a98507d-e79b-437c-f17f-1329012db5fd"
      },
      "execution_count": 64,
      "outputs": [
        {
          "output_type": "stream",
          "name": "stdout",
          "text": [
            "Forward Direction =====>\n",
            "S\n",
            "d\n",
            "d\n",
            "h\n",
            "a\n",
            "r\n",
            "t\n",
            "h\n",
            "a\n",
            "Backward Direction =====>\n",
            "a\n",
            "h\n",
            "t\n",
            "r\n",
            "a\n",
            "h\n",
            "d\n",
            "d\n",
            "i\n",
            "S\n",
            "Siddh\n",
            "dharth\n",
            "Sdh\n",
            "dat\n",
            "dr\n",
            "hrhd\n",
            "ahddi\n",
            "adi\n",
            "ahtrahddiS\n",
            "1\n",
            "2\n"
          ]
        }
      ]
    },
    {
      "cell_type": "code",
      "source": [
        "# List (Array is known as list in python)\n",
        "\n",
        "listOne = []\n",
        "print(type(listOne))\n",
        "\n",
        "listTwo = list()\n",
        "print(type(listTwo))\n",
        "\n",
        "\n",
        "listThree = [1, 20, \"Sidd\", \"Sarkar\", 45.45, True, 5 + 8j, [4, 5 , 6, \"fdfs\"]]\n",
        "\n",
        "print(listThree)\n",
        "\n",
        "print(listThree[3])\n",
        "print(listThree[-4])\n",
        "\n",
        "print(type(listThree[-4]))\n",
        "print(type(listThree[6]))\n",
        "\n",
        "print(listThree[7][3])\n",
        "print(type(listThree[7][3]))\n",
        "\n",
        "print(listThree[0:7])\n",
        "\n",
        "# for below cod the output will be blank as bt default the third argument will be positive 1. So we need to specify the 3rd argumentas negative 1.\n",
        "print(listThree[-1:-5])\n",
        "\n",
        "print(listThree[-1:-5:-1])\n",
        "print(listThree[-1:-5:-2])\n",
        "\n",
        "print(listThree[0:-5:-1])\n",
        "print(listThree[0:-5:1])\n",
        "\n",
        "\n"
      ],
      "metadata": {
        "colab": {
          "base_uri": "https://localhost:8080/"
        },
        "id": "NGUHHA9o_P-T",
        "outputId": "f85e8ee0-a174-4757-9730-9c87f3fdd970"
      },
      "execution_count": 60,
      "outputs": [
        {
          "output_type": "stream",
          "name": "stdout",
          "text": [
            "<class 'list'>\n",
            "<class 'list'>\n",
            "[1, 20, 'Sidd', 'Sarkar', 45.45, True, (5+8j), [4, 5, 6, 'fdfs']]\n",
            "Sarkar\n",
            "45.45\n",
            "<class 'float'>\n",
            "<class 'complex'>\n",
            "fdfs\n",
            "<class 'str'>\n",
            "[1, 20, 'Sidd', 'Sarkar', 45.45, True, (5+8j)]\n",
            "[]\n",
            "[[4, 5, 6, 'fdfs'], (5+8j), True, 45.45]\n",
            "[[4, 5, 6, 'fdfs'], True]\n",
            "[]\n",
            "[1, 20, 'Sidd']\n"
          ]
        }
      ]
    }
  ]
}